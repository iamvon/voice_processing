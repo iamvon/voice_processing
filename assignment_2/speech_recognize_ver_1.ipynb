{
 "cells": [
  {
   "cell_type": "code",
   "execution_count": 21,
   "metadata": {},
   "outputs": [],
   "source": [
    "import librosa\n",
    "import numpy as np\n",
    "import os\n",
    "import math\n",
    "from sklearn.cluster import KMeans\n",
    "import hmmlearn.hmm\n",
    "import noisereduce as nr\n",
    "import sounddevice as sd\n",
    "import soundfile as sf\n",
    "import pickle"
   ]
  },
  {
   "cell_type": "code",
   "execution_count": 22,
   "metadata": {},
   "outputs": [],
   "source": [
    "def get_mfcc(file_path):\n",
    "    y, sr = librosa.load(file_path) # read .wav file\n",
    "    hop_length = math.floor(sr*0.010) # 10ms hop\n",
    "    win_length = math.floor(sr*0.025) # 25ms frame\n",
    "    # mfcc is 12 x T matrix\n",
    "    mfcc = librosa.feature.mfcc(\n",
    "        y, sr, n_mfcc=12, n_fft=1024,\n",
    "        hop_length=hop_length, win_length=win_length)\n",
    "    # substract mean from mfcc --> normalize mfcc\n",
    "    mfcc = mfcc - np.mean(mfcc, axis=1).reshape((-1,1)) \n",
    "    # delta feature 1st order and 2nd order\n",
    "    delta1 = librosa.feature.delta(mfcc, order=1)\n",
    "    delta2 = librosa.feature.delta(mfcc, order=2)\n",
    "    # X is 36 x T\n",
    "    X = np.concatenate([mfcc, delta1, delta2], axis=0) # O^r\n",
    "    # return T x 36 (transpose of X)\n",
    "    return X.T # hmmlearn use T x N matrix\n",
    "\n",
    "def get_class_data(data_dir):\n",
    "    files = os.listdir(data_dir)\n",
    "    mfcc = [get_mfcc(os.path.join(data_dir,f)) for f in files if f.endswith(\".wav\")]\n",
    "    print('data_dir: ', data_dir)\n",
    "    print(f'mfcc.shape: {np.array(mfcc).shape}')\n",
    "    return mfcc\n",
    "\n",
    "def clustering(X, n_clusters=10):\n",
    "    kmeans = KMeans(n_clusters=n_clusters, n_init=50, random_state=0, verbose=0)\n",
    "    kmeans.fit(X)\n",
    "    print(\"centers\", kmeans.cluster_centers_.shape)\n",
    "    return kmeans  \n"
   ]
  },
  {
   "cell_type": "code",
   "execution_count": 23,
   "metadata": {},
   "outputs": [
    {
     "name": "stdout",
     "output_type": "stream",
     "text": [
      "Load nguoi dataset\n",
      "data_dir:  data/nguoi\n",
      "mfcc.shape: (76,)\n",
      "Load toi dataset\n",
      "data_dir:  data/toi\n",
      "mfcc.shape: (76,)\n",
      "Load khong dataset\n",
      "data_dir:  data/khong\n",
      "mfcc.shape: (76,)\n",
      "Load mot dataset\n",
      "data_dir:  data/mot\n",
      "mfcc.shape: (76,)\n",
      "Load co_the dataset\n",
      "data_dir:  data/co_the\n",
      "mfcc.shape: (99,)\n",
      "Load test_khong dataset\n",
      "data_dir:  data/test_khong\n",
      "mfcc.shape: (25,)\n",
      "Load test_toi dataset\n",
      "data_dir:  data/test_toi\n",
      "mfcc.shape: (25,)\n",
      "Load test_mot dataset\n",
      "data_dir:  data/test_mot\n",
      "mfcc.shape: (24,)\n",
      "Load test_nguoi dataset\n",
      "data_dir:  data/test_nguoi\n",
      "mfcc.shape: (25,)\n",
      "Load test_co_the dataset\n",
      "data_dir:  data/test_co_the\n",
      "mfcc.shape: (21,)\n"
     ]
    }
   ],
   "source": [
    "class_names = [\"nguoi\", \"toi\", \"khong\", \"mot\", \"co_the\", \"test_khong\" , \"test_toi\" , \"test_mot\", \"test_nguoi\", \"test_co_the\"]\n",
    "dataset = {}\n",
    "for cname in class_names:\n",
    "    print(f\"Load {cname} dataset\")\n",
    "    dataset[cname] = get_class_data(os.path.join(\"data\", cname))"
   ]
  },
  {
   "cell_type": "code",
   "execution_count": 24,
   "metadata": {},
   "outputs": [
    {
     "name": "stdout",
     "output_type": "stream",
     "text": [
      "vectors (24050, 36)\n"
     ]
    }
   ],
   "source": [
    "# Get all vectors in the datasets\n",
    "all_vectors = np.concatenate([np.concatenate(v, axis=0) for k, v in dataset.items()], axis=0)\n",
    "print(\"vectors\", all_vectors.shape)"
   ]
  },
  {
   "cell_type": "code",
   "execution_count": 25,
   "metadata": {},
   "outputs": [],
   "source": [
    "# for k, v in dataset.items():\n",
    "#     print(v)"
   ]
  },
  {
   "cell_type": "code",
   "execution_count": 26,
   "metadata": {},
   "outputs": [
    {
     "name": "stdout",
     "output_type": "stream",
     "text": [
      "centers (21, 36)\n",
      "centers (21, 36)\n"
     ]
    }
   ],
   "source": [
    "# Run K-Means algorithm to get clusters\n",
    "kmeans = clustering(all_vectors, n_clusters=21)\n",
    "print(\"centers\", kmeans.cluster_centers_.shape)"
   ]
  },
  {
   "cell_type": "code",
   "execution_count": 27,
   "metadata": {},
   "outputs": [],
   "source": [
    "# kmeans.cluster_centers_"
   ]
  },
  {
   "cell_type": "code",
   "execution_count": 28,
   "metadata": {},
   "outputs": [
    {
     "name": "stdout",
     "output_type": "stream",
     "text": [
      "nguoi \n",
      " (76,)\n",
      "toi \n",
      " (76,)\n",
      "khong \n",
      " (76,)\n",
      "mot \n",
      " (76,)\n",
      "co_the \n",
      " (99,)\n",
      "test_khong \n",
      " (25,)\n",
      "test_toi \n",
      " (25,)\n",
      "test_mot \n",
      " (24,)\n",
      "test_nguoi \n",
      " (25,)\n",
      "test_co_the \n",
      " (21,)\n"
     ]
    }
   ],
   "source": [
    "for key, val in dataset.items():\n",
    "    print(key,'\\n', np.array(val).shape)"
   ]
  },
  {
   "cell_type": "code",
   "execution_count": 29,
   "metadata": {},
   "outputs": [],
   "source": [
    "models = {}\n",
    "original_dataset = {}"
   ]
  },
  {
   "cell_type": "code",
   "execution_count": 30,
   "metadata": {},
   "outputs": [
    {
     "name": "stdout",
     "output_type": "stream",
     "text": [
      "training class nguoi\n",
      "(1875, 1) [20, 17, 23, 21, 19, 18, 27, 20, 27, 30, 21, 24, 21, 19, 31, 30, 17, 21, 44, 22, 20, 19, 42, 21, 23, 28, 17, 35, 37, 28, 30, 37, 50, 40, 12, 13, 29, 30, 23, 19, 22, 26, 16, 20, 22, 27, 18, 23, 15, 28, 22, 22, 23, 40, 25, 28, 19, 25, 33, 23, 31, 27, 16, 29, 20, 31, 14, 23, 14, 44, 20, 19, 22, 17, 22, 24] 76\n"
     ]
    },
    {
     "name": "stderr",
     "output_type": "stream",
     "text": [
      "         1       -5366.8436             +nan\n",
      "         2       -3809.6719       +1557.1717\n",
      "         3       -3447.3243        +362.3476\n",
      "         4       -3180.8315        +266.4928\n",
      "         5       -3006.1050        +174.7265\n",
      "         6       -2941.5421         +64.5629\n",
      "         7       -2924.8400         +16.7021\n",
      "         8       -2916.1652          +8.6747\n",
      "         9       -2908.2422          +7.9230\n",
      "        10       -2901.6454          +6.5968\n",
      "        11       -2891.9911          +9.6542\n",
      "        12       -2882.5403          +9.4509\n",
      "        13       -2878.8958          +3.6445\n",
      "        14       -2876.6682          +2.2276\n",
      "        15       -2874.7817          +1.8865\n",
      "        16       -2873.1176          +1.6641\n",
      "        17       -2871.8468          +1.2708\n",
      "        18       -2870.9824          +0.8644\n",
      "        19       -2870.4606          +0.5217\n",
      "        20       -2870.1290          +0.3316\n",
      "        21       -2869.8798          +0.2492\n",
      "        22       -2869.6726          +0.2072\n",
      "        23       -2869.4914          +0.1812\n",
      "        24       -2869.3282          +0.1632\n",
      "        25       -2869.1793          +0.1489\n",
      "        26       -2869.0449          +0.1344\n",
      "        27       -2868.9279          +0.1170\n",
      "        28       -2868.8314          +0.0965\n",
      "        29       -2868.7555          +0.0759\n",
      "        30       -2868.6971          +0.0584\n",
      "        31       -2868.6511          +0.0460\n",
      "        32       -2868.6123          +0.0388\n",
      "        33       -2868.5760          +0.0362\n",
      "        34       -2868.5381          +0.0379\n",
      "        35       -2868.4938          +0.0443\n",
      "        36       -2868.4373          +0.0565\n",
      "        37       -2868.3617          +0.0756\n",
      "        38       -2868.2596          +0.1022\n",
      "        39       -2868.1245          +0.1351\n",
      "        40       -2867.9483          +0.1762\n",
      "        41       -2867.7070          +0.2414\n",
      "        42       -2867.3561          +0.3509\n",
      "        43       -2866.9347          +0.4214\n",
      "        44       -2866.6248          +0.3099\n",
      "        45       -2866.4642          +0.1606\n",
      "        46       -2866.3779          +0.0863\n",
      "        47       -2866.3248          +0.0531\n",
      "        48       -2866.2889          +0.0358\n",
      "        49       -2866.2630          +0.0259\n",
      "        50       -2866.2416          +0.0214\n",
      "        51       -2866.2160          +0.0256\n",
      "        52       -2866.1612          +0.0548\n",
      "        53       -2866.0057          +0.1555\n",
      "        54       -2865.6377          +0.3679\n",
      "        55       -2865.1354          +0.5024\n",
      "        56       -2864.7927          +0.3426\n",
      "        57       -2864.6499          +0.1428\n",
      "        58       -2864.5940          +0.0559\n",
      "        59       -2864.5659          +0.0281\n",
      "        60       -2864.5475          +0.0184\n",
      "        61       -2864.5332          +0.0143\n",
      "        62       -2864.5206          +0.0126\n",
      "        63       -2864.5082          +0.0124\n",
      "        64       -2864.4941          +0.0142\n",
      "        65       -2864.4737          +0.0204\n",
      "        66       -2864.4306          +0.0431\n",
      "        67       -2864.2685          +0.1621\n",
      "        68       -2863.2487          +1.0198\n",
      "        69       -2860.2877          +2.9610\n",
      "        70       -2859.4186          +0.8691\n",
      "        71       -2859.3548          +0.0638\n",
      "        72       -2859.3388          +0.0159\n",
      "        73       -2859.3301          +0.0087\n"
     ]
    }
   ],
   "source": [
    "original_dataset['nguoi'] = dataset['nguoi'].copy()\n",
    "cname = 'nguoi'\n",
    "# convert all vectors to the cluster index\n",
    "dataset[cname] = list([kmeans.predict(v).reshape(-1,1) for v in original_dataset[cname]])\n",
    "\n",
    "hmm = hmmlearn.hmm.MultinomialHMM(\n",
    "    n_components=9, random_state=0, n_iter=1000, verbose=True,\n",
    "    params='te',\n",
    "    init_params='e'\n",
    ")\n",
    "hmm.startprob_=np.array([0.7, 0.2, 0.1, 0.0, 0.0, 0.0, 0.0, 0.0, 0.0])\n",
    "hmm.transmat_=np.array([\n",
    "    [0.7, 0.2, 0.1, 0.0, 0.0, 0.0, 0.0, 0.0, 0.0],\n",
    "    [0.0, 0.7, 0.2, 0.1, 0.0, 0.0, 0.0, 0.0, 0.0],\n",
    "    [0.0, 0.0, 0.7, 0.2, 0.1, 0.0, 0.0, 0.0, 0.0],\n",
    "    [0.0, 0.0, 0.0, 0.7, 0.2, 0.1, 0.0, 0.0, 0.0],\n",
    "    [0.0, 0.0, 0.0, 0.0, 0.7, 0.2, 0.1, 0.0, 0.0],\n",
    "    [0.0, 0.0, 0.0, 0.0, 0.0, 0.7, 0.2, 0.1, 0.0],\n",
    "    [0.0, 0.0, 0.0, 0.0, 0.0, 0.0, 0.7, 0.2, 0.1],\n",
    "    [0.0, 0.0, 0.0, 0.0, 0.0, 0.0, 0.0, 0.7, 0.3],\n",
    "    [0.0, 0.0, 0.0, 0.0, 0.0, 0.0, 0.0, 0.0, 1.0],\n",
    "    \n",
    "])\n",
    "if cname[:4] != 'test':\n",
    "    X = np.concatenate(dataset[cname])\n",
    "    lengths = list([len(x) for x in dataset[cname]])\n",
    "    print(\"training class\", cname)\n",
    "    print(X.shape, lengths, len(lengths))\n",
    "    hmm.fit(X, lengths=lengths)\n",
    "    models[cname] = hmm"
   ]
  },
  {
   "cell_type": "code",
   "execution_count": 31,
   "metadata": {},
   "outputs": [
    {
     "name": "stdout",
     "output_type": "stream",
     "text": [
      "[[0.65 0.17 0.18 0.   0.   0.   0.   0.   0.  ]\n",
      " [0.   0.68 0.24 0.07 0.   0.   0.   0.   0.  ]\n",
      " [0.   0.   0.81 0.01 0.18 0.   0.   0.   0.  ]\n",
      " [0.   0.   0.   0.83 0.17 0.   0.   0.   0.  ]\n",
      " [0.   0.   0.   0.   0.77 0.06 0.17 0.   0.  ]\n",
      " [0.   0.   0.   0.   0.   0.83 0.1  0.08 0.  ]\n",
      " [0.   0.   0.   0.   0.   0.   0.8  0.13 0.07]\n",
      " [0.   0.   0.   0.   0.   0.   0.   0.9  0.1 ]\n",
      " [0.   0.   0.   0.   0.   0.   0.   0.   1.  ]]\n"
     ]
    }
   ],
   "source": [
    "np.set_printoptions(precision=2, suppress=True)\n",
    "print(models['nguoi'].transmat_)"
   ]
  },
  {
   "cell_type": "code",
   "execution_count": 32,
   "metadata": {},
   "outputs": [
    {
     "name": "stdout",
     "output_type": "stream",
     "text": [
      "training class toi\n",
      "(1736, 1) [17, 16, 23, 27, 26, 17, 27, 17, 10, 17, 16, 13, 20, 18, 23, 15, 37, 28, 15, 14, 15, 17, 30, 12, 37, 27, 17, 15, 38, 24, 39, 29, 18, 42, 16, 16, 41, 13, 16, 18, 16, 25, 32, 15, 23, 32, 15, 20, 19, 21, 24, 33, 14, 22, 25, 20, 43, 14, 24, 34, 14, 25, 17, 14, 35, 14, 12, 33, 32, 27, 33, 47, 27, 18, 21, 20] 76\n"
     ]
    },
    {
     "name": "stderr",
     "output_type": "stream",
     "text": [
      "         1       -5023.9957             +nan\n",
      "         2       -3497.6255       +1526.3702\n",
      "         3       -3082.6689        +414.9566\n",
      "         4       -2910.4618        +172.2071\n",
      "         5       -2801.1612        +109.3006\n",
      "         6       -2741.7024         +59.4589\n",
      "         7       -2704.7587         +36.9437\n",
      "         8       -2677.8936         +26.8651\n",
      "         9       -2667.0326         +10.8610\n",
      "        10       -2660.1904          +6.8422\n",
      "        11       -2656.0216          +4.1688\n",
      "        12       -2653.5953          +2.4264\n",
      "        13       -2651.8432          +1.7521\n",
      "        14       -2650.2162          +1.6269\n",
      "        15       -2648.8903          +1.3259\n",
      "        16       -2648.2399          +0.6504\n",
      "        17       -2647.9235          +0.3164\n",
      "        18       -2647.7230          +0.2005\n",
      "        19       -2647.5845          +0.1385\n",
      "        20       -2647.4861          +0.0984\n",
      "        21       -2647.4153          +0.0708\n",
      "        22       -2647.3642          +0.0511\n",
      "        23       -2647.3273          +0.0369\n",
      "        24       -2647.3007          +0.0266\n",
      "        25       -2647.2814          +0.0193\n",
      "        26       -2647.2675          +0.0139\n",
      "        27       -2647.2574          +0.0101\n",
      "        28       -2647.2501          +0.0073\n"
     ]
    }
   ],
   "source": [
    "original_dataset['toi'] = dataset['toi'].copy()\n",
    "cname = 'toi'\n",
    "class_vectors = dataset[cname]\n",
    "# convert all vectors to the cluster index\n",
    "\n",
    "dataset[cname] = list([kmeans.predict(v).reshape(-1,1) for v in original_dataset[cname]])\n",
    "\n",
    "hmm = hmmlearn.hmm.MultinomialHMM(\n",
    "    n_components= 9, random_state=0, n_iter=1000, verbose=True,\n",
    "    params='te',\n",
    "    init_params='e'\n",
    ")\n",
    "hmm.startprob_ = np.array([0.7, 0.2, 0.1, 0.0, 0.0, 0.0, 0.0, 0.0, 0.0])\n",
    "hmm.transmat_ = np.array([ \n",
    "    [0.7, 0.2, 0.1, 0.0, 0.0, 0.0, 0.0, 0.0, 0.0],\n",
    "    [0.0, 0.7, 0.2, 0.1, 0.0, 0.0, 0.0, 0.0, 0.0],\n",
    "    [0.0, 0.0, 0.7, 0.2, 0.1, 0.0, 0.0, 0.0, 0.0],\n",
    "    [0.0, 0.0, 0.0, 0.7, 0.2, 0.1, 0.0, 0.0, 0.0],\n",
    "    [0.0, 0.0, 0.0, 0.0, 0.7, 0.2, 0.1, 0.0, 0.0],\n",
    "    [0.0, 0.0, 0.0, 0.0, 0.0, 0.7, 0.2, 0.1, 0.0],\n",
    "    [0.0, 0.0, 0.0, 0.0, 0.0, 0.0, 0.7, 0.2, 0.1],\n",
    "    [0.0, 0.0, 0.0, 0.0, 0.0, 0.0, 0.0, 0.7, 0.3],\n",
    "    [0.0, 0.0, 0.0, 0.0, 0.0, 0.0, 0.0, 0.0, 1.0],\n",
    "    ])\n",
    "\n",
    "if cname[:4] != 'test':\n",
    "    X = np.concatenate(dataset[cname])\n",
    "    lengths = list([len(x) for x in dataset[cname]])\n",
    "    print(\"training class\", cname)\n",
    "    print(X.shape, lengths, len(lengths))\n",
    "    hmm.fit(X, lengths=lengths)\n",
    "    models[cname] = hmm"
   ]
  },
  {
   "cell_type": "code",
   "execution_count": 33,
   "metadata": {},
   "outputs": [
    {
     "name": "stdout",
     "output_type": "stream",
     "text": [
      "[[0.58 0.19 0.23 0.   0.   0.   0.   0.   0.  ]\n",
      " [0.   0.65 0.   0.35 0.   0.   0.   0.   0.  ]\n",
      " [0.   0.   0.6  0.09 0.31 0.   0.   0.   0.  ]\n",
      " [0.   0.   0.   0.64 0.36 0.   0.   0.   0.  ]\n",
      " [0.   0.   0.   0.   0.69 0.27 0.04 0.   0.  ]\n",
      " [0.   0.   0.   0.   0.   0.77 0.11 0.12 0.  ]\n",
      " [0.   0.   0.   0.   0.   0.   0.75 0.09 0.15]\n",
      " [0.   0.   0.   0.   0.   0.   0.   0.89 0.11]\n",
      " [0.   0.   0.   0.   0.   0.   0.   0.   1.  ]]\n"
     ]
    }
   ],
   "source": [
    "np.set_printoptions(precision=2, suppress=True)\n",
    "print(models['toi'].transmat_)"
   ]
  },
  {
   "cell_type": "code",
   "execution_count": 34,
   "metadata": {},
   "outputs": [
    {
     "name": "stdout",
     "output_type": "stream",
     "text": [
      "training class khong\n",
      "(1898, 1) [23, 17, 38, 28, 18, 33, 22, 20, 33, 21, 27, 32, 24, 19, 27, 22, 30, 29, 35, 21, 17, 25, 26, 20, 26, 31, 20, 23, 24, 27, 36, 25, 19, 25, 25, 26, 40, 25, 28, 20, 15, 27, 20, 27, 16, 20, 17, 21, 14, 23, 20, 33, 20, 19, 45, 34, 23, 25, 25, 25, 26, 23, 27, 22, 28, 34, 20, 22, 18, 30, 19, 24, 28, 27, 21, 33] 76\n"
     ]
    },
    {
     "name": "stderr",
     "output_type": "stream",
     "text": [
      "         1       -5742.6467             +nan\n",
      "         2       -4385.8729       +1356.7738\n",
      "         3       -4367.8389         +18.0341\n",
      "         4       -4333.2786         +34.5603\n",
      "         5       -4249.0132         +84.2654\n",
      "         6       -4010.2591        +238.7541\n",
      "         7       -3534.2108        +476.0483\n",
      "         8       -3126.9941        +407.2167\n",
      "         9       -2941.2530        +185.7411\n",
      "        10       -2874.6902         +66.5628\n",
      "        11       -2791.6033         +83.0869\n",
      "        12       -2660.6335        +130.9697\n",
      "        13       -2586.1014         +74.5321\n",
      "        14       -2553.6454         +32.4561\n",
      "        15       -2530.5855         +23.0599\n",
      "        16       -2510.7502         +19.8353\n",
      "        17       -2501.7652          +8.9850\n",
      "        18       -2495.3477          +6.4175\n",
      "        19       -2483.5573         +11.7904\n",
      "        20       -2467.7544         +15.8029\n",
      "        21       -2451.5855         +16.1689\n",
      "        22       -2441.8776          +9.7079\n",
      "        23       -2436.9708          +4.9068\n",
      "        24       -2435.3053          +1.6655\n",
      "        25       -2437.1124          -1.8071\n"
     ]
    }
   ],
   "source": [
    "original_dataset['khong'] = dataset['khong'].copy()\n",
    "cname = 'khong'\n",
    "class_vectors = dataset[cname]\n",
    "# convert all vectors to the cluster index\n",
    "dataset[cname] = list([kmeans.predict(v).reshape(-1,1) for v in dataset[cname]])\n",
    "\n",
    "hmm = hmmlearn.hmm.MultinomialHMM(\n",
    "    n_components=9, random_state=0, n_iter=1000, verbose=True,\n",
    "    startprob_prior=np.array([0.7, 0.2, 0.1, 0.0, 0.0, 0.0, 0.0, 0.0, 0.0]),\n",
    "    transmat_prior=np.array([ \n",
    "    [0.7, 0.2, 0.1, 0.0, 0.0, 0.0, 0.0, 0.0, 0.0],\n",
    "    [0.0, 0.7, 0.2, 0.1, 0.0, 0.0, 0.0, 0.0, 0.0],\n",
    "    [0.0, 0.0, 0.7, 0.2, 0.1, 0.0, 0.0, 0.0, 0.0],\n",
    "    [0.0, 0.0, 0.0, 0.7, 0.2, 0.1, 0.0, 0.0, 0.0],\n",
    "    [0.0, 0.0, 0.0, 0.0, 0.7, 0.2, 0.1, 0.0, 0.0],\n",
    "    [0.0, 0.0, 0.0, 0.0, 0.0, 0.7, 0.2, 0.1, 0.0],\n",
    "    [0.0, 0.0, 0.0, 0.0, 0.0, 0.0, 0.7, 0.2, 0.1],\n",
    "    [0.0, 0.0, 0.0, 0.0, 0.0, 0.0, 0.0, 0.7, 0.3],\n",
    "    [0.0, 0.0, 0.0, 0.0, 0.0, 0.0, 0.0, 0.0, 1.0],\n",
    "    ])\n",
    ")\n",
    "\n",
    "if cname[:4] != 'test':\n",
    "    X = np.concatenate(dataset[cname])\n",
    "    lengths = list([len(x) for x in dataset[cname]])\n",
    "    print(\"training class\", cname)\n",
    "    print(X.shape, lengths, len(lengths))\n",
    "    hmm.fit(X, lengths=lengths)\n",
    "    models[cname] = hmm"
   ]
  },
  {
   "cell_type": "code",
   "execution_count": 35,
   "metadata": {},
   "outputs": [
    {
     "name": "stderr",
     "output_type": "stream",
     "text": [
      "         1       -4329.0513             +nan\n",
      "         2       -3073.3410       +1255.7103\n"
     ]
    },
    {
     "name": "stdout",
     "output_type": "stream",
     "text": [
      "training class mot\n",
      "(1472, 1) [18, 23, 23, 20, 12, 21, 16, 18, 24, 20, 20, 23, 23, 20, 18, 12, 21, 18, 25, 11, 18, 23, 20, 15, 18, 15, 16, 22, 12, 11, 16, 36, 16, 16, 24, 16, 22, 15, 14, 14, 27, 36, 24, 21, 20, 18, 23, 23, 16, 23, 19, 16, 18, 26, 26, 17, 18, 18, 21, 22, 24, 21, 22, 20, 19, 17, 17, 10, 14, 15, 19, 16, 20, 18, 20, 23] 76\n"
     ]
    },
    {
     "name": "stderr",
     "output_type": "stream",
     "text": [
      "         3       -2819.3242        +254.0168\n",
      "         4       -2716.7284        +102.5958\n",
      "         5       -2668.3005         +48.4279\n",
      "         6       -2642.1019         +26.1986\n",
      "         7       -2626.6464         +15.4555\n",
      "         8       -2615.6213         +11.0251\n",
      "         9       -2606.9437          +8.6776\n",
      "        10       -2600.2115          +6.7322\n",
      "        11       -2594.7296          +5.4819\n",
      "        12       -2589.5835          +5.1461\n",
      "        13       -2585.0362          +4.5474\n",
      "        14       -2581.7121          +3.3240\n",
      "        15       -2579.5094          +2.2027\n",
      "        16       -2578.1329          +1.3765\n",
      "        17       -2577.2432          +0.8897\n",
      "        18       -2576.6043          +0.6389\n",
      "        19       -2576.0946          +0.5098\n",
      "        20       -2575.6479          +0.4467\n",
      "        21       -2575.2309          +0.4170\n",
      "        22       -2574.8411          +0.3898\n",
      "        23       -2574.4948          +0.3463\n",
      "        24       -2574.1992          +0.2956\n",
      "        25       -2573.9402          +0.2590\n",
      "        26       -2573.6965          +0.2437\n",
      "        27       -2573.4538          +0.2427\n",
      "        28       -2573.2070          +0.2469\n",
      "        29       -2572.9561          +0.2509\n",
      "        30       -2572.7035          +0.2526\n",
      "        31       -2572.4516          +0.2518\n",
      "        32       -2572.2022          +0.2494\n",
      "        33       -2571.9550          +0.2472\n",
      "        34       -2571.7081          +0.2469\n",
      "        35       -2571.4588          +0.2493\n",
      "        36       -2571.2042          +0.2546\n",
      "        37       -2570.9423          +0.2619\n",
      "        38       -2570.6726          +0.2697\n",
      "        39       -2570.3967          +0.2759\n",
      "        40       -2570.1183          +0.2784\n",
      "        41       -2569.8435          +0.2749\n",
      "        42       -2569.5802          +0.2632\n",
      "        43       -2569.3384          +0.2418\n",
      "        44       -2569.1282          +0.2103\n",
      "        45       -2568.9569          +0.1713\n",
      "        46       -2568.8266          +0.1303\n",
      "        47       -2568.7334          +0.0933\n",
      "        48       -2568.6694          +0.0640\n",
      "        49       -2568.6263          +0.0430\n",
      "        50       -2568.5973          +0.0291\n",
      "        51       -2568.5770          +0.0202\n",
      "        52       -2568.5620          +0.0150\n",
      "        53       -2568.5499          +0.0121\n",
      "        54       -2568.5388          +0.0111\n",
      "        55       -2568.5271          +0.0117\n",
      "        56       -2568.5132          +0.0139\n",
      "        57       -2568.4952          +0.0180\n",
      "        58       -2568.4707          +0.0245\n",
      "        59       -2568.4369          +0.0338\n",
      "        60       -2568.3906          +0.0463\n",
      "        61       -2568.3292          +0.0614\n",
      "        62       -2568.2518          +0.0774\n",
      "        63       -2568.1605          +0.0913\n",
      "        64       -2568.0606          +0.0998\n",
      "        65       -2567.9592          +0.1014\n",
      "        66       -2567.8624          +0.0968\n",
      "        67       -2567.7742          +0.0882\n",
      "        68       -2567.6960          +0.0781\n",
      "        69       -2567.6280          +0.0681\n",
      "        70       -2567.5690          +0.0590\n",
      "        71       -2567.5179          +0.0511\n",
      "        72       -2567.4732          +0.0447\n",
      "        73       -2567.4334          +0.0398\n",
      "        74       -2567.3970          +0.0364\n",
      "        75       -2567.3620          +0.0350\n",
      "        76       -2567.3255          +0.0365\n",
      "        77       -2567.2820          +0.0435\n",
      "        78       -2567.2183          +0.0637\n",
      "        79       -2567.0974          +0.1210\n",
      "        80       -2566.8087          +0.2886\n",
      "        81       -2566.1213          +0.6874\n",
      "        82       -2564.9107          +1.2106\n",
      "        83       -2562.4792          +2.4315\n",
      "        84       -2555.3447          +7.1346\n",
      "        85       -2549.5155          +5.8291\n",
      "        86       -2548.5466          +0.9689\n",
      "        87       -2548.3123          +0.2343\n",
      "        88       -2548.1627          +0.1496\n",
      "        89       -2548.0288          +0.1339\n",
      "        90       -2547.8942          +0.1346\n",
      "        91       -2547.7448          +0.1494\n",
      "        92       -2547.5586          +0.1862\n",
      "        93       -2547.3148          +0.2438\n",
      "        94       -2547.0395          +0.2752\n",
      "        95       -2546.7966          +0.2430\n",
      "        96       -2546.5997          +0.1969\n",
      "        97       -2546.4317          +0.1680\n",
      "        98       -2546.2780          +0.1536\n",
      "        99       -2546.1292          +0.1488\n",
      "       100       -2545.9799          +0.1493\n",
      "       101       -2545.8283          +0.1515\n",
      "       102       -2545.6758          +0.1525\n",
      "       103       -2545.5259          +0.1499\n",
      "       104       -2545.3833          +0.1426\n",
      "       105       -2545.2527          +0.1306\n",
      "       106       -2545.1378          +0.1149\n",
      "       107       -2545.0406          +0.0972\n",
      "       108       -2544.9611          +0.0794\n",
      "       109       -2544.8982          +0.0629\n",
      "       110       -2544.8495          +0.0486\n",
      "       111       -2544.8127          +0.0369\n",
      "       112       -2544.7851          +0.0276\n",
      "       113       -2544.7646          +0.0205\n",
      "       114       -2544.7494          +0.0152\n",
      "       115       -2544.7381          +0.0113\n",
      "       116       -2544.7296          +0.0084\n"
     ]
    }
   ],
   "source": [
    "original_dataset['mot'] = dataset['mot'].copy()\n",
    "cname = 'mot'\n",
    "# convert all vectors to the cluster index\n",
    "dataset[cname] = list([kmeans.predict(v).reshape(-1,1) for v in original_dataset[cname]])\n",
    "\n",
    "\n",
    "hmm = hmmlearn.hmm.MultinomialHMM(\n",
    "    n_components=9, random_state=0, n_iter=1000, verbose=True,\n",
    "    params='te',\n",
    "    init_params='e'\n",
    ")\n",
    "hmm.startprob_=np.array([0.7,0.2,0.1,0.0,0.0,0.0,0.0,0.0,0.0])\n",
    "hmm.transmat_=np.array([ \n",
    "    [0.7, 0.2, 0.1, 0.0, 0.0, 0.0, 0.0, 0.0, 0.0],\n",
    "    [0.0, 0.7, 0.2, 0.1, 0.0, 0.0, 0.0, 0.0, 0.0],\n",
    "    [0.0, 0.0, 0.7, 0.2, 0.1, 0.0, 0.0, 0.0, 0.0],\n",
    "    [0.0, 0.0, 0.0, 0.7, 0.2, 0.1, 0.0, 0.0, 0.0],\n",
    "    [0.0, 0.0, 0.0, 0.0, 0.7, 0.2, 0.1, 0.0, 0.0],\n",
    "    [0.0, 0.0, 0.0, 0.0, 0.0, 0.7, 0.2, 0.1, 0.0],\n",
    "    [0.0, 0.0, 0.0, 0.0, 0.0, 0.0, 0.7, 0.2, 0.1],\n",
    "    [0.0, 0.0, 0.0, 0.0, 0.0, 0.0, 0.0, 0.7, 0.3],\n",
    "    [0.0, 0.0, 0.0, 0.0, 0.0, 0.0, 0.0, 0.0, 1.0],\n",
    "    ])\n",
    "\n",
    "\n",
    "if cname[:4] != 'test':\n",
    "    X = np.concatenate(dataset[cname])\n",
    "    lengths = list([len(x) for x in dataset[cname]])\n",
    "    print(\"training class\", cname)\n",
    "    print(X.shape, lengths, len(lengths))\n",
    "    hmm.fit(X, lengths=lengths)\n",
    "    models[cname] = hmm"
   ]
  },
  {
   "cell_type": "code",
   "execution_count": 36,
   "metadata": {},
   "outputs": [
    {
     "name": "stdout",
     "output_type": "stream",
     "text": [
      "training class co_the\n",
      "(12074, 1) [137, 117, 156, 128, 122, 122, 111, 112, 125, 122, 108, 122, 124, 110, 111, 118, 105, 131, 119, 111, 152, 116, 122, 110, 125, 119, 109, 115, 117, 112, 125, 108, 137, 106, 116, 111, 115, 129, 122, 124, 152, 125, 119, 129, 128, 122, 127, 129, 119, 121, 118, 108, 113, 124, 152, 156, 124, 108, 152, 128, 129, 118, 129, 152, 116, 109, 119, 116, 125, 152, 127, 129, 128, 111, 109, 111, 124, 152, 117, 103, 114, 118, 109, 118, 123, 116, 115, 122, 118, 117, 115, 112, 119, 114, 141, 109, 124, 128, 111] 99\n"
     ]
    },
    {
     "name": "stderr",
     "output_type": "stream",
     "text": [
      "         1      -33949.6983             +nan\n",
      "         2       -8497.3349      +25452.3634\n",
      "         3       -6604.8045       +1892.5303\n",
      "         4       -6261.1607        +343.6438\n",
      "         5       -5983.6686        +277.4921\n",
      "         6       -5792.6534        +191.0152\n",
      "         7       -5719.0786         +73.5749\n",
      "         8       -5691.9053         +27.1733\n",
      "         9       -5681.2695         +10.6357\n",
      "        10       -5675.7894          +5.4801\n",
      "        11       -5672.3597          +3.4298\n",
      "        12       -5670.1861          +2.1735\n",
      "        13       -5668.3351          +1.8511\n",
      "        14       -5664.4432          +3.8919\n",
      "        15       -5653.8979         +10.5453\n",
      "        16       -5641.8188         +12.0791\n",
      "        17       -5637.6337          +4.1851\n",
      "        18       -5636.2089          +1.4248\n",
      "        19       -5635.7053          +0.5036\n",
      "        20       -5635.5401          +0.1652\n",
      "        21       -5635.4654          +0.0747\n",
      "        22       -5635.4229          +0.0425\n",
      "        23       -5635.3546          +0.0683\n",
      "        24       -5634.7329          +0.6216\n",
      "        25       -5632.7730          +1.9600\n",
      "        26       -5631.5632          +1.2097\n",
      "        27       -5630.5018          +1.0614\n",
      "        28       -5629.4014          +1.1004\n",
      "        29       -5628.8421          +0.5594\n",
      "        30       -5628.6717          +0.1703\n",
      "        31       -5628.6254          +0.0464\n",
      "        32       -5628.6122          +0.0131\n",
      "        33       -5628.6079          +0.0043\n"
     ]
    }
   ],
   "source": [
    "original_dataset['co_the'] = dataset['co_the'].copy()\n",
    "cname = 'co_the'\n",
    "\n",
    "# convert all vectors to the cluster index\n",
    "dataset[cname] = list([kmeans.predict(v).reshape(-1,1) for v in original_dataset[cname]])\n",
    "\n",
    "hmm = hmmlearn.hmm.MultinomialHMM(\n",
    "    n_components=12, random_state=0, n_iter=1000, verbose=True,\n",
    "    params='te',\n",
    "    init_params='e'\n",
    ")\n",
    "hmm.startprob_=np.array([0.7, 0.2, 0.1, 0.0, 0.0, 0.0, 0.0, 0.0, 0.0, 0.0, 0.0, 0.0])\n",
    "hmm.transmat_=np.array([ \n",
    "    [0.7, 0.2, 0.1, 0.0, 0.0, 0.0, 0.0, 0.0, 0.0, 0.0, 0.0, 0.0],\n",
    "    [0.0, 0.7, 0.2, 0.1, 0.0, 0.0, 0.0, 0.0, 0.0, 0.0, 0.0, 0.0],\n",
    "    [0.0, 0.0, 0.7, 0.2, 0.1, 0.0, 0.0, 0.0, 0.0, 0.0, 0.0, 0.0],\n",
    "    [0.0, 0.0, 0.0, 0.7, 0.2, 0.1, 0.0, 0.0, 0.0, 0.0, 0.0, 0.0],\n",
    "    [0.0, 0.0, 0.0, 0.0, 0.7, 0.2, 0.1, 0.0, 0.0, 0.0, 0.0, 0.0],\n",
    "    [0.0, 0.0, 0.0, 0.0, 0.0, 0.7, 0.2, 0.1, 0.0, 0.0, 0.0, 0.0],\n",
    "    [0.0, 0.0, 0.0, 0.0, 0.0, 0.0, 0.7, 0.2, 0.1, 0.0, 0.0, 0.0],\n",
    "    [0.0, 0.0, 0.0, 0.0, 0.0, 0.0, 0.0, 0.7, 0.2, 0.1, 0.0, 0.0],\n",
    "    [0.0, 0.0, 0.0, 0.0, 0.0, 0.0, 0.0, 0.0, 0.7, 0.2, 0.1, 0.0],\n",
    "    [0.0, 0.0, 0.0, 0.0, 0.0, 0.0, 0.0, 0.0, 0.0, 0.7, 0.2, 0.1],\n",
    "    [0.0, 0.0, 0.0, 0.0, 0.0, 0.0, 0.0, 0.0, 0.0, 0.0, 0.7, 0.3],\n",
    "    [0.0, 0.0, 0.0, 0.0, 0.0, 0.0, 0.0, 0.0, 0.0, 0.0, 0.0, 1.0],\n",
    "    ])\n",
    "\n",
    "if cname[:4] != 'test':\n",
    "    X = np.concatenate(dataset[cname])\n",
    "    lengths = list([len(x) for x in dataset[cname]])\n",
    "    print(\"training class\", cname)\n",
    "    print(X.shape, lengths, len(lengths))\n",
    "    hmm.fit(X, lengths=lengths)\n",
    "    models[cname] = hmm"
   ]
  },
  {
   "cell_type": "code",
   "execution_count": 37,
   "metadata": {},
   "outputs": [
    {
     "name": "stdout",
     "output_type": "stream",
     "text": [
      "[[0.94 0.06 0.   0.   0.   0.   0.   0.   0.   0.   0.   0.  ]\n",
      " [0.   0.92 0.03 0.05 0.   0.   0.   0.   0.   0.   0.   0.  ]\n",
      " [0.   0.   1.   0.   0.   0.   0.   0.   0.   0.   0.   0.  ]\n",
      " [0.   0.   0.   0.79 0.07 0.14 0.   0.   0.   0.   0.   0.  ]\n",
      " [0.   0.   0.   0.   1.   0.   0.   0.   0.   0.   0.   0.  ]\n",
      " [0.   0.   0.   0.   0.   0.56 0.22 0.21 0.   0.   0.   0.  ]\n",
      " [0.   0.   0.   0.   0.   0.   0.94 0.   0.06 0.   0.   0.  ]\n",
      " [0.   0.   0.   0.   0.   0.   0.   0.92 0.04 0.04 0.   0.  ]\n",
      " [0.   0.   0.   0.   0.   0.   0.   0.   0.16 0.   0.84 0.  ]\n",
      " [0.   0.   0.   0.   0.   0.   0.   0.   0.   0.06 0.   0.94]\n",
      " [0.   0.   0.   0.   0.   0.   0.   0.   0.   0.   1.   0.  ]\n",
      " [0.   0.   0.   0.   0.   0.   0.   0.   0.   0.   0.   1.  ]]\n"
     ]
    }
   ],
   "source": [
    "np.set_printoptions(precision=2, suppress=True)\n",
    "print(models['co_the'].transmat_)"
   ]
  },
  {
   "cell_type": "code",
   "execution_count": 38,
   "metadata": {},
   "outputs": [],
   "source": [
    "pickle.dump(models, open('./model/model.pkl','wb'))"
   ]
  },
  {
   "cell_type": "code",
   "execution_count": 39,
   "metadata": {},
   "outputs": [],
   "source": [
    "dataset[\"test_nguoi\"] = list([kmeans.predict(v).reshape(-1,1) for v in dataset['test_nguoi']])\n",
    "dataset['test_toi'] = list([kmeans.predict(v).reshape(-1,1) for v in dataset['test_toi']])\n",
    "dataset['test_khong'] = list([kmeans.predict(v).reshape(-1,1) for v in dataset['test_khong']])\n",
    "dataset['test_mot'] = list([kmeans.predict(v).reshape(-1,1) for v in dataset['test_mot']])\n",
    "dataset['test_co_the'] = list([kmeans.predict(v).reshape(-1,1) for v in dataset['test_co_the']])"
   ]
  },
  {
   "cell_type": "code",
   "execution_count": 40,
   "metadata": {},
   "outputs": [
    {
     "name": "stdout",
     "output_type": "stream",
     "text": [
      "Accuracy:\n",
      "85.0 %\n"
     ]
    }
   ],
   "source": [
    "print(\"Accuracy:\")\n",
    "mapping = [\"nguoi\", \"toi\", \"khong\", \"mot\", \"co_the\"]\n",
    "class_names = [\"test_nguoi\", \"test_toi\", \"test_khong\", \"test_mot\", \"test_co_the\"]\n",
    "count = 0\n",
    "correct = 0\n",
    "for true_cname in class_names:\n",
    "    score = []\n",
    "    for i in dataset[true_cname]:\n",
    "        score = [model.score(i, [len(i)]) for cname, model in models.items() if cname[:4] != 'test']\n",
    "        res = mapping[score.index(max(score))] \n",
    "        if res == true_cname[5:]:\n",
    "            correct += 1\n",
    "        count += 1 \n",
    "print(100*correct/count, \"%\")"
   ]
  }
 ],
 "metadata": {
  "kernelspec": {
   "display_name": "voice_processing_venv",
   "language": "python",
   "name": "voice_processing_venv"
  },
  "language_info": {
   "codemirror_mode": {
    "name": "ipython",
    "version": 3
   },
   "file_extension": ".py",
   "mimetype": "text/x-python",
   "name": "python",
   "nbconvert_exporter": "python",
   "pygments_lexer": "ipython3",
   "version": "3.7.3"
  }
 },
 "nbformat": 4,
 "nbformat_minor": 4
}
